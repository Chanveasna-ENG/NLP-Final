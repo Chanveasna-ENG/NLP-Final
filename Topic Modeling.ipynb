{
 "cells": [
  {
   "cell_type": "markdown",
   "metadata": {
    "id": "6x27BFWfwFPW"
   },
   "source": [
    "<h1><center><strong><font color=\"Teal\">Natural Language Processing Assignment<br/> "
   ]
  },
  {
   "cell_type": "markdown",
   "metadata": {
    "id": "14YSu-1JH20G"
   },
   "source": [
    "# <font color=\"teal\">**Topic Modeling**</font>"
   ]
  },
  {
   "cell_type": "markdown",
   "metadata": {
    "id": "8Pvrzu4LZDwo"
   },
   "source": [
    "\n",
    "## <font color=\"teal\">**Prerequisites**</font>\n",
    "\n",
    "- Python \n",
    "- Pandas \n",
    "- NLTK\n",
    "- Spacy\n",
    "\n",
    "\n",
    "## <font color=\"teal\">**Resources :**</font> \n",
    "\n",
    "- NLTK : https://www.nltk.org/api/nltk.tokenize.html \n",
    "- PANDAS : https://pandas.pydata.org/pandas-docs/stable/getting_started/10min.html\n",
    "- SPACY : https://spacy.io/usage/spacy-101 \n",
    "- Regex cheasheet : see python's re module documentation https://docs.python.org/3/library/re.html  \n",
    "\n",
    "\n",
    "## <font color=\"teal\">**Database**</font>\n",
    "\n",
    "We will use the PLOS narrativity database\n",
    "\n",
    "This database is used in a scientific article about the **importance of narrativity** in the citation frequency of climate change scientific articles.  https://journals.plos.org/plosone/article?id=10.1371/journal.pone.0167983  \n",
    "\n",
    "\n",
    "## <font color=\"teal\">**Tasks**</font>\n",
    "\n",
    "### 1. Basic preprocessing\n",
    "#### 1.1 Open the database. Generate simple statistics about the abstracts. How many unique articles are there (Tips: check pmid)? What is the mean length of abstracts in characters (Tips: Check ab)? \n",
    "\n",
    "### 2. Word-level preprocessing\n",
    "#### 2.1 Split the abstracts into list of words. How many different words are there in the vocabulary? \n",
    "#### 2.2 Split the abstracts into list of words using three different tokenizers from nltk. e.g : tokenizers = [TreebankWordTokenizer(), ToktokTokenizer(), TweetTokenizer()]  What is the difference in terms of number of words? What do you think has changed?\n",
    "\n",
    "\n",
    "### 3. Domain specificity and regex\n",
    "#### 3.1 Use regex to retrieve numbers (ints, floats, %, years, ...) using a regex. \n",
    "#### 3.2 How many percent of characters are numbers (as defined above) in a given abstract? \n",
    "\n",
    "\n",
    "### 4. Classic NLP Pipeline to Represent Data\n",
    "#### 4.0 Re-tokenize using spacy\n",
    "#### 4.1 Lemmatize using spacy\n",
    "#### 4.2 POS tagging using spacy, plot the trees\n",
    "#### 4.3 NER using spacy, give the amount of each entity type for a given abstract\n",
    "\n",
    "### 5. Topic Modelling\n",
    "#### 5.1 Use Gensim's LDA to compute a topic model. \n",
    "#### 5.2 Use PyLDAvis to visualise the topic model. What are the different topic clusters?\n",
    "#### 5.3 Use a tf-idf representation for each abstract, and use your favorite clustering algorithm."
   ]
  },
  {
   "cell_type": "markdown",
   "metadata": {
    "id": "Whx0UrMnZ8_I"
   },
   "source": [
    "# <font color=\"teal\">**1. Basic preprocessing**</font>\n",
    "\n",
    "\n",
    "\n"
   ]
  },
  {
   "cell_type": "code",
   "execution_count": null,
   "metadata": {
    "id": "gXQcDhc1IuOI"
   },
   "outputs": [],
   "source": []
  },
  {
   "cell_type": "markdown",
   "metadata": {
    "id": "j9XMO0rukSUI"
   },
   "source": [
    "\n",
    "## <font color=\"teal\">**1.1 Open the database. Generate simple statistics about the abstracts. How many unique articles are there? What is the mean length of abstracts in characters?**</font>"
   ]
  },
  {
   "cell_type": "code",
   "execution_count": null,
   "metadata": {},
   "outputs": [],
   "source": []
  },
  {
   "cell_type": "markdown",
   "metadata": {
    "id": "wNv0YjyJ1rhc"
   },
   "source": [
    "# <font color=\"teal\">**2. Word-level preprocessing**</font>\n"
   ]
  },
  {
   "cell_type": "markdown",
   "metadata": {
    "id": "zTGT_vBp1uA0"
   },
   "source": [
    "## <font color=\"teal\">**2.1 Split the abstracts into list of words. How many different words are there in the vocabulary?**</font>\n",
    "\n"
   ]
  },
  {
   "cell_type": "markdown",
   "metadata": {
    "id": "Ip4N5g1NLonX"
   },
   "source": []
  },
  {
   "cell_type": "markdown",
   "metadata": {
    "id": "YDphQOEC2pUI"
   },
   "source": [
    "## <font color=\"teal\">**2.2 Split the abstracts into list of words using three different tokenizers from nltk. What is the difference in terms of number of words? What do you think has changed?**</font>\n",
    "\n"
   ]
  },
  {
   "cell_type": "code",
   "execution_count": null,
   "metadata": {},
   "outputs": [],
   "source": []
  },
  {
   "cell_type": "markdown",
   "metadata": {
    "id": "omVMvmwuBvDk"
   },
   "source": [
    "# <font color=\"teal\">**3. Domain specificity and regex**</font>\n"
   ]
  },
  {
   "cell_type": "markdown",
   "metadata": {
    "id": "jQ6pLbSlBxpM"
   },
   "source": [
    "## <font color=\"teal\">**3.1 Use regex to retrieve numbers (ints, floats, %, years, ...) in abstracts.**</font>\n",
    "\n",
    "\n",
    "*Regex cheasheet* : see python's re module documentation https://docs.python.org/3/library/re.html  \n",
    "\n",
    "*Other ressources* : \n",
    "\n",
    "- A good website to write and test regular expressions : \n",
    "https://regex101.com/\n",
    "- A good game to learn regex : https://alf.nu/RegexGolf \n"
   ]
  },
  {
   "cell_type": "code",
   "execution_count": null,
   "metadata": {},
   "outputs": [],
   "source": []
  },
  {
   "cell_type": "markdown",
   "metadata": {
    "id": "OscHta8ZBz8E"
   },
   "source": [
    "## <font color=\"teal\">**3.2 How many percent of characters are numbers (as defined above) in a given abstract?**</font>\n"
   ]
  },
  {
   "cell_type": "code",
   "execution_count": null,
   "metadata": {},
   "outputs": [],
   "source": []
  },
  {
   "cell_type": "markdown",
   "metadata": {
    "id": "vD3M-sfgb-X-"
   },
   "source": [
    "\n",
    "# <font color=\"teal\">**4. Classic NLP pipeline**</font>\n"
   ]
  },
  {
   "cell_type": "markdown",
   "metadata": {
    "id": "e9A6V5y1cKFu"
   },
   "source": [
    "### <font color=\"teal\">**4.0 Re-tokenize using spacy**</font>\n",
    "\n",
    "It is useful to take a look at spacy's [tokenizer documentation](https://spacy.io/usage/spacy-101#annotations-token)"
   ]
  },
  {
   "cell_type": "code",
   "execution_count": null,
   "metadata": {},
   "outputs": [],
   "source": []
  },
  {
   "cell_type": "markdown",
   "metadata": {
    "id": "ZtzuSyQbcTBX"
   },
   "source": [
    "\n",
    "## <font color=\"teal\">**4.1 Lemmatize using spacy**</font>"
   ]
  },
  {
   "cell_type": "code",
   "execution_count": null,
   "metadata": {},
   "outputs": [],
   "source": []
  },
  {
   "cell_type": "markdown",
   "metadata": {
    "id": "P0CN5Ls3cfFC"
   },
   "source": [
    "\n",
    "## <font color=\"teal\">**4.2 POS tagging using spacy, plot the trees**</font>"
   ]
  },
  {
   "cell_type": "code",
   "execution_count": null,
   "metadata": {},
   "outputs": [],
   "source": []
  },
  {
   "cell_type": "markdown",
   "metadata": {
    "id": "xlcrJDASUxOd"
   },
   "source": [
    "## <font color=\"teal\">4.3 NER using spacy, give the amount of each entity type for a given abstract, visualize entities"
   ]
  },
  {
   "cell_type": "code",
   "execution_count": 41,
   "metadata": {
    "id": "bxbSYFbokF0G"
   },
   "outputs": [],
   "source": []
  },
  {
   "cell_type": "markdown",
   "metadata": {
    "id": "F2BCX2wSt9VA"
   },
   "source": [
    "\n",
    "# <font color=\"teal\">**5. Topic Modelling**</font>\n"
   ]
  },
  {
   "cell_type": "markdown",
   "metadata": {
    "id": "NqzXrw-Tt_0Y"
   },
   "source": [
    "## <font color=\"teal\">**5.1 Use Gensim's LDA to compute a topic model.**</font> \n"
   ]
  },
  {
   "cell_type": "code",
   "execution_count": null,
   "metadata": {},
   "outputs": [],
   "source": []
  },
  {
   "cell_type": "markdown",
   "metadata": {
    "id": "XtaxXtE4uCPE"
   },
   "source": [
    "## <font color=\"teal\">**5.2 Use PyLDAvis to visualise the topic model. What are the different topic clusters?**</font>\n"
   ]
  },
  {
   "cell_type": "code",
   "execution_count": null,
   "metadata": {},
   "outputs": [],
   "source": []
  },
  {
   "cell_type": "markdown",
   "metadata": {},
   "source": [
    "## <font color=\"teal\">**5.3 Use a tf-idf representation for each abstract, and use your favorite clustering algorithm.**</font>\n"
   ]
  },
  {
   "cell_type": "code",
   "execution_count": null,
   "metadata": {},
   "outputs": [],
   "source": []
  }
 ],
 "metadata": {
  "colab": {
   "provenance": [
    {
     "file_id": "10P6zNk-A3bq0XConhmKB59J9nZANyCTX",
     "timestamp": 1580810612679
    }
   ],
   "toc_visible": true
  },
  "kernelspec": {
   "display_name": "Python 3 (ipykernel)",
   "language": "python",
   "name": "python3"
  },
  "language_info": {
   "codemirror_mode": {
    "name": "ipython",
    "version": 3
   },
   "file_extension": ".py",
   "mimetype": "text/x-python",
   "name": "python",
   "nbconvert_exporter": "python",
   "pygments_lexer": "ipython3",
   "version": "3.7.6"
  }
 },
 "nbformat": 4,
 "nbformat_minor": 1
}
